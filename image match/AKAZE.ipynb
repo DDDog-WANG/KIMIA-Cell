{
 "cells": [
  {
   "cell_type": "code",
   "execution_count": 7,
   "metadata": {},
   "outputs": [],
   "source": [
    "import numpy as np\n",
    "import cv2\n",
    "\n",
    "def AKAZEpexp(load,img1,img2):\n",
    "    akaze = cv2.AKAZE_create()\n",
    "    img1 = cv2.imread(load+img1)\n",
    "    img2 = cv2.imread(load+img2)\n",
    "    kp1, des1 = akaze.detectAndCompute(img1,None) \n",
    "    kp2, des2 = akaze.detectAndCompute(img2,None)\n",
    "\n",
    "    #计算matches的平均距离\n",
    "    bf = cv2.BFMatcher(cv2.NORM_HAMMING,crossCheck=False)\n",
    "    matches = bf.match(des1,des2)\n",
    "    dist_matches = [m.distance for m in matches]\n",
    "    AKAZE_match_matchpoints.append(len(dist_matches))\n",
    "    AKAZE_match_Averagedistance.append(np.mean(dist_matches))\n",
    "    \n",
    "    knnmatches = bf.knnMatch(des1,des2,k=2)    \n",
    "    good = []\n",
    "    for m,n in knnmatches:\n",
    "        if m.distance < 0.5*n.distance:\n",
    "            good.append(m)   \n",
    "    if len(good) > 1:\n",
    "        src_pts = np.float32([kp1[m.queryIdx].pt for m in good]).reshape(-1, 1, 2)\n",
    "        dst_pts = np.float32([kp2[m.trainIdx].pt for m in good]).reshape(-1, 1, 2)\n",
    "        H, mask = cv2.findHomography(src_pts, dst_pts, cv2.RANSAC, 5.0)\n",
    "        matchesMask = mask.ravel().tolist() \n",
    "\n",
    "        #计算KNN_RANSAC之后平均距离\n",
    "        dist = [m.distance for m in good]\n",
    "        dist_ransac=[]\n",
    "        for m in range(len(good)):\n",
    "            dist_ransac.append(dist[m]*matchesMask[m])\n",
    "        AKAZE_KnnMatch_matchpoints.append(np.count_nonzero(matchesMask))\n",
    "        AKAZE_KnnMatch_Averagedistance.append(np.mean(dist_ransac))\n",
    "        \n",
    "    else:\n",
    "        #计算KNN_RANSAC之后平均距离\n",
    "        AKAZE_KnnMatch_matchpoints.append(0)\n",
    "        AKAZE_KnnMatch_Averagedistance.append(10000)"
   ]
  }
 ],
 "metadata": {
  "kernelspec": {
   "display_name": "Python 3",
   "language": "python",
   "name": "python3"
  },
  "language_info": {
   "codemirror_mode": {
    "name": "ipython",
    "version": 3
   },
   "file_extension": ".py",
   "mimetype": "text/x-python",
   "name": "python",
   "nbconvert_exporter": "python",
   "pygments_lexer": "ipython3",
   "version": "3.7.3"
  },
  "toc": {
   "base_numbering": 1,
   "nav_menu": {},
   "number_sections": true,
   "sideBar": true,
   "skip_h1_title": false,
   "title_cell": "Table of Contents",
   "title_sidebar": "Contents",
   "toc_cell": false,
   "toc_position": {},
   "toc_section_display": true,
   "toc_window_display": false
  }
 },
 "nbformat": 4,
 "nbformat_minor": 2
}
